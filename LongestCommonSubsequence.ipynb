{
 "nbformat": 4,
 "nbformat_minor": 5,
 "metadata": {
  "kernelspec": {
   "display_name": "Python 3",
   "language": "python",
   "name": "python3"
  },
  "language_info": {
   "codemirror_mode": {
    "name": "ipython",
    "version": 3
   },
   "file_extension": ".py",
   "mimetype": "text/x-python",
   "name": "python",
   "nbconvert_exporter": "python",
   "pygments_lexer": "ipython3",
   "version": "3.9.1"
  },
  "colab": {
   "name": "LongestCommonSubsequence.ipynb",
   "provenance": []
  }
 },
 "cells": [
  {
   "cell_type": "code",
   "metadata": {
    "id": "available-garlic",
    "outputId": "96b6321a-7fdc-4952-df11-3b0d15d96e16",
    "pycharm": {
     "name": "#%%\n"
    }
   },
   "source": [
    "try:\n",
    "    %load_ext autotime\n",
    "except:\n",
    "    !pip install ipython-autotime\n",
    "    %load_ext autotime"
   ],
   "id": "available-garlic",
   "execution_count": 1,
   "outputs": [
    {
     "name": "stdout",
     "output_type": "stream",
     "text": [
      "Collecting ipython-autotime\r\n",
      "  Downloading ipython_autotime-0.3.1-py2.py3-none-any.whl (6.8 kB)\r\n",
      "Requirement already satisfied: ipython in /Users/abdelrahmanibrahim/miniforge3/envs/lib/python3.8/site-packages (from ipython-autotime) (8.2.0)\r\n",
      "Requirement already satisfied: decorator in /Users/abdelrahmanibrahim/miniforge3/envs/lib/python3.8/site-packages (from ipython->ipython-autotime) (5.1.1)\r\n",
      "Requirement already satisfied: traitlets>=5 in /Users/abdelrahmanibrahim/miniforge3/envs/lib/python3.8/site-packages (from ipython->ipython-autotime) (5.1.1)\r\n",
      "Requirement already satisfied: stack-data in /Users/abdelrahmanibrahim/miniforge3/envs/lib/python3.8/site-packages (from ipython->ipython-autotime) (0.2.0)\r\n",
      "Requirement already satisfied: pygments>=2.4.0 in /Users/abdelrahmanibrahim/miniforge3/envs/lib/python3.8/site-packages (from ipython->ipython-autotime) (2.11.2)\r\n",
      "Requirement already satisfied: pexpect>4.3 in /Users/abdelrahmanibrahim/miniforge3/envs/lib/python3.8/site-packages (from ipython->ipython-autotime) (4.8.0)\r\n",
      "Requirement already satisfied: backcall in /Users/abdelrahmanibrahim/miniforge3/envs/lib/python3.8/site-packages (from ipython->ipython-autotime) (0.2.0)\r\n",
      "Requirement already satisfied: appnope in /Users/abdelrahmanibrahim/miniforge3/envs/lib/python3.8/site-packages (from ipython->ipython-autotime) (0.1.3)\r\n",
      "Requirement already satisfied: jedi>=0.16 in /Users/abdelrahmanibrahim/miniforge3/envs/lib/python3.8/site-packages (from ipython->ipython-autotime) (0.18.1)\r\n",
      "Requirement already satisfied: matplotlib-inline in /Users/abdelrahmanibrahim/miniforge3/envs/lib/python3.8/site-packages (from ipython->ipython-autotime) (0.1.3)\r\n",
      "Requirement already satisfied: pickleshare in /Users/abdelrahmanibrahim/miniforge3/envs/lib/python3.8/site-packages (from ipython->ipython-autotime) (0.7.5)\r\n",
      "Requirement already satisfied: prompt-toolkit!=3.0.0,!=3.0.1,<3.1.0,>=2.0.0 in /Users/abdelrahmanibrahim/miniforge3/envs/lib/python3.8/site-packages (from ipython->ipython-autotime) (3.0.29)\r\n",
      "Requirement already satisfied: setuptools>=18.5 in /Users/abdelrahmanibrahim/miniforge3/envs/lib/python3.8/site-packages (from ipython->ipython-autotime) (62.1.0)\r\n",
      "Requirement already satisfied: parso<0.9.0,>=0.8.0 in /Users/abdelrahmanibrahim/miniforge3/envs/lib/python3.8/site-packages (from jedi>=0.16->ipython->ipython-autotime) (0.8.3)\r\n",
      "Requirement already satisfied: ptyprocess>=0.5 in /Users/abdelrahmanibrahim/miniforge3/envs/lib/python3.8/site-packages (from pexpect>4.3->ipython->ipython-autotime) (0.7.0)\r\n",
      "Requirement already satisfied: wcwidth in /Users/abdelrahmanibrahim/miniforge3/envs/lib/python3.8/site-packages (from prompt-toolkit!=3.0.0,!=3.0.1,<3.1.0,>=2.0.0->ipython->ipython-autotime) (0.2.5)\r\n",
      "Requirement already satisfied: pure-eval in /Users/abdelrahmanibrahim/miniforge3/envs/lib/python3.8/site-packages (from stack-data->ipython->ipython-autotime) (0.2.2)\r\n",
      "Requirement already satisfied: asttokens in /Users/abdelrahmanibrahim/miniforge3/envs/lib/python3.8/site-packages (from stack-data->ipython->ipython-autotime) (2.0.5)\r\n",
      "Requirement already satisfied: executing in /Users/abdelrahmanibrahim/miniforge3/envs/lib/python3.8/site-packages (from stack-data->ipython->ipython-autotime) (0.8.3)\r\n",
      "Requirement already satisfied: six in /Users/abdelrahmanibrahim/miniforge3/envs/lib/python3.8/site-packages (from asttokens->stack-data->ipython->ipython-autotime) (1.16.0)\r\n",
      "Installing collected packages: ipython-autotime\r\n",
      "Successfully installed ipython-autotime-0.3.1\r\n",
      "time: 411 µs (started: 2022-05-24 17:29:12 +02:00)\n"
     ]
    }
   ]
  },
  {
   "cell_type": "markdown",
   "metadata": {
    "id": "narrative-picking",
    "pycharm": {
     "name": "#%% md\n"
    }
   },
   "source": [
    "## Dynamic Programming Algorithm for Longest Common Subsequence\n",
    "\n",
    "$$\\newcommand\\lcss{\\textsf{lcss}}$$\n",
    "$$\\newcommand\\len{\\textsf{len}}$$\n",
    "\n",
    "Recall the recurrence that we implement to be `Python` friendly assuming that the arguments $i,j$ satisfy\n",
    "$0 \\leq i \\leq \\len(s_1)$ and $0 \\leq j \\leq \\len(s_2)$.\n",
    "\n",
    "\n",
    "$$\\lcss(i, j) = \\begin{cases}\n",
    "0 & i \\geq \\len(s_1) \\\\\n",
    "0 & j \\geq \\len(s_2) \\\\\n",
    "1 + \\lcss(i+1, j+1 ) &  s_1[i] = s_2[j] \\\\ \n",
    "\\max( \\lcss(i+1, j), \\lcss(i, j+1) ) & \\text{otherwise} \\\\ \n",
    "\\end{cases} $$"
   ],
   "id": "narrative-picking"
  },
  {
   "cell_type": "code",
   "metadata": {
    "id": "exceptional-detective",
    "pycharm": {
     "name": "#%%\n"
    }
   },
   "source": [
    "def lcs(s1, s2, i, j):\n",
    "    assert 0 <= i and i <= len(s1)\n",
    "    assert 0 <= j and j <= len(s2)\n",
    "    if i == len(s1):\n",
    "        return 0\n",
    "    if j == len(s2):\n",
    "        return 0\n",
    "    if s1[i] == s2[j]:\n",
    "        return 1 + lcs(s1, s2, i+1, j+1)\n",
    "    else:\n",
    "        return max(lcs(s1, s2, i+1, j), lcs(s1, s2, i, j+1))"
   ],
   "id": "exceptional-detective",
   "execution_count": 2,
   "outputs": [
    {
     "name": "stdout",
     "output_type": "stream",
     "text": [
      "time: 522 µs (started: 2022-05-24 17:29:12 +02:00)\n"
     ]
    }
   ]
  },
  {
   "cell_type": "markdown",
   "metadata": {
    "id": "controlled-senate",
    "pycharm": {
     "name": "#%% md\n"
    }
   },
   "source": [
    "Warning: the recurrence above is quite inefficient. See for yourself."
   ],
   "id": "controlled-senate"
  },
  {
   "cell_type": "code",
   "metadata": {
    "id": "multiple-weekly",
    "outputId": "b4387908-66f5-45de-c98d-57df46a19ae4",
    "pycharm": {
     "name": "#%%\n"
    }
   },
   "source": [
    "s1 = \"GATTACA\"\n",
    "s2 = \"ACTGATAACAA\"\n",
    "print(lcs(s1, s2, 0, 0))"
   ],
   "id": "multiple-weekly",
   "execution_count": 3,
   "outputs": [
    {
     "name": "stdout",
     "output_type": "stream",
     "text": [
      "6\n",
      "time: 455 µs (started: 2022-05-24 17:29:12 +02:00)\n"
     ]
    }
   ]
  },
  {
   "cell_type": "code",
   "metadata": {
    "id": "limited-former",
    "outputId": "c8658d8d-9418-4165-8939-a0ebdd29d00d",
    "pycharm": {
     "name": "#%%\n"
    }
   },
   "source": [
    "s1 = \"GGATTACCATTATGGAGGCGGA\"\n",
    "s2 = \"ACTTAGGTAGG\"\n",
    "print(lcs(s1, s2, 0, 0))"
   ],
   "id": "limited-former",
   "execution_count": 4,
   "outputs": [
    {
     "name": "stdout",
     "output_type": "stream",
     "text": [
      "10\n",
      "time: 81.1 ms (started: 2022-05-24 17:29:12 +02:00)\n"
     ]
    }
   ]
  },
  {
   "cell_type": "code",
   "metadata": {
    "id": "exotic-thing",
    "outputId": "c88989c0-8207-4130-be38-4bbc7754043b",
    "pycharm": {
     "name": "#%%\n"
    }
   },
   "source": [
    "# This is just slightly longer and will take more than a minute and a half to run\n",
    "s1 = \"GGATTACCATTATGGAGGCGGA\"\n",
    "s2 = \"ACTTAGGTAGATTATCCG\"\n",
    "print(lcs(s1, s2, 0, 0))"
   ],
   "id": "exotic-thing",
   "execution_count": 5,
   "outputs": [
    {
     "name": "stdout",
     "output_type": "stream",
     "text": [
      "11\n",
      "time: 39.6 s (started: 2022-05-24 17:29:12 +02:00)\n"
     ]
    }
   ]
  },
  {
   "cell_type": "code",
   "metadata": {
    "id": "narrative-vienna",
    "outputId": "27985bf3-9c0e-4bbc-ae1c-07143e1e7dec",
    "pycharm": {
     "name": "#%%\n",
     "is_executing": true
    }
   },
   "source": [
    "#slightly longer strings will take \"forever\" to run\n",
    "s1 = \"GGATTACACATTACCTATAGGTATAAT\"\n",
    "s2 = \"GGATTTATCTATAAATTACCTATTTATTATATTACCGTATGGTATGC\"\n",
    "print(lcs(s1, s2, 0, 0))"
   ],
   "id": "narrative-vienna",
   "execution_count": null,
   "outputs": []
  },
  {
   "cell_type": "code",
   "metadata": {
    "id": "sticky-stream",
    "outputId": "8172bb16-cc71-4cb5-e7f2-508d9cb47534",
    "pycharm": {
     "name": "#%%\n",
     "is_executing": true
    }
   },
   "source": [
    "#Let's memoize\n",
    "\n",
    "def memoize_lcs(s1, s2):\n",
    "    m = len(s1)\n",
    "    n = len(s2)\n",
    "    # let's create a memo table and fill it with zeros. This will nicely take care of the base cases.\n",
    "    memo_tbl = [ [0 for j in range(n+1)] for i in range(m+1)]\n",
    "    sol_info = [ ['' for j in range(n+1)] for i in range(m+1)] # This will help us recover solutions\n",
    "    for i in range(m-1, -1, -1): # iterate from m-1 to 0 with a step of -1\n",
    "        for j in range(n-1, -1, -1):\n",
    "            if s1[i] == s2[j]:\n",
    "                memo_tbl[i][j] = memo_tbl[i+1][j+1] + 1\n",
    "                sol_info[i][j] = 'match'\n",
    "            else: \n",
    "                # Python allows us to compare and assign tuples\n",
    "                # This nifty bit of code saves us an if then else condition and assignments\n",
    "                # if you are new to python feel free to write out the logic carefully\n",
    "                memo_tbl[i][j], sol_info[i][j] = max((memo_tbl[i+1][j],'right'), (memo_tbl[i][j+1], 'down'))\n",
    "    # Now let us recover the longest common sub sequence\n",
    "    lcs = '' # initialize it to empty string\n",
    "    match_locations = [] # matches of (i,j)\n",
    "    i = 0\n",
    "    j = 0 # start at top left corner\n",
    "    while (i < m and j < n):\n",
    "        if sol_info[i][j] == 'match':\n",
    "            assert s1[i] == s2[j]\n",
    "            lcs = lcs + s1[i]\n",
    "            match_locations.append((i,j))\n",
    "            i,j = i + 1, j + 1\n",
    "        elif sol_info[i][j] == 'right':\n",
    "            i, j = i+1, j\n",
    "        else: \n",
    "            assert sol_info[i][j] == 'down'\n",
    "            i, j = i, j+1\n",
    "    return lcs, match_locations"
   ],
   "id": "sticky-stream",
   "execution_count": null,
   "outputs": []
  },
  {
   "cell_type": "code",
   "metadata": {
    "id": "challenging-bosnia",
    "outputId": "654cdf22-efa4-4466-86e0-10ab9b806c80",
    "pycharm": {
     "name": "#%%\n",
     "is_executing": true
    }
   },
   "source": [
    "s1 = \"GATTACA\"\n",
    "s2 = \"ACTGATAACAA\"\n",
    "(lcs, match_locations) = memoize_lcs(s1, s2)\n",
    "print(f'Longest common subsequence: {lcs} length= {len(lcs)}')\n",
    "print('Matches:')\n",
    "print('\\t Char:\\t i, j')\n",
    "for (i, j) in match_locations:\n",
    "    print(f'\\t {s1[i]}:\\t {i}, {j}')\n"
   ],
   "id": "challenging-bosnia",
   "execution_count": null,
   "outputs": []
  },
  {
   "cell_type": "code",
   "metadata": {
    "id": "collaborative-chrome",
    "outputId": "a33fc11f-0f45-498f-e351-0ef1fd78f7b5",
    "pycharm": {
     "name": "#%%\n",
     "is_executing": true
    }
   },
   "source": [
    "s1 = \"GGATTACCATTATGGAGGCGGA\"\n",
    "s2 = \"ACTTAGGTAGG\"\n",
    "(lcs, match_locations) = memoize_lcs(s1, s2)\n",
    "print(f'Longest common subsequence: {lcs} length= {len(lcs)}')\n",
    "print('Matches:')\n",
    "print('\\t Char:\\t i, j')\n",
    "for (i, j) in match_locations:\n",
    "    print(f'\\t {s1[i]}:\\t {i}, {j}')"
   ],
   "id": "collaborative-chrome",
   "execution_count": null,
   "outputs": []
  },
  {
   "cell_type": "code",
   "metadata": {
    "id": "reserved-blogger",
    "outputId": "3b3c44e1-a68d-4481-e885-1213adbbaa80",
    "pycharm": {
     "name": "#%%\n",
     "is_executing": true
    }
   },
   "source": [
    "s1 = \"GGATTACCATTATGGAGGCGGA\"\n",
    "s2 = \"ACTTAGGTAGATTATCCG\"\n",
    "(lcs, match_locations) = memoize_lcs(s1, s2)\n",
    "print(f'Longest common subsequence: {lcs} length= {len(lcs)}')\n",
    "print('Matches:')\n",
    "print('\\t Char:\\t i, j')\n",
    "for (i, j) in match_locations:\n",
    "    print(f'\\t {s1[i]}:\\t {i}, {j}')"
   ],
   "id": "reserved-blogger",
   "execution_count": null,
   "outputs": []
  },
  {
   "cell_type": "code",
   "metadata": {
    "id": "numeric-market",
    "outputId": "1da16006-2d22-4907-9373-d95eebd79166",
    "pycharm": {
     "name": "#%%\n",
     "is_executing": true
    }
   },
   "source": [
    "#slightly longer strings will run instantaneously given that we are memoizing\n",
    "s1 = \"GGATTACACATTACCTATAGGTATAAT\"\n",
    "s2 = \"GGATTTATCTATAAATTACCTATTTATTATATTACCGTATGGTATGC\"\n",
    "(lcs, match_locations) = memoize_lcs(s1, s2)\n",
    "print(f'Longest common subsequence: {lcs} length= {len(lcs)}')\n",
    "print('Matches:')\n",
    "print('\\t Char:\\t i, j')\n",
    "for (i, j) in match_locations:\n",
    "    print(f'\\t {s1[i]}:\\t {i}, {j}')"
   ],
   "id": "numeric-market",
   "execution_count": null,
   "outputs": []
  },
  {
   "cell_type": "code",
   "metadata": {
    "id": "printable-proof",
    "pycharm": {
     "name": "#%%\n",
     "is_executing": true
    }
   },
   "source": [],
   "id": "printable-proof",
   "execution_count": null,
   "outputs": []
  }
 ]
}